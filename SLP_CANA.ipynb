{
  "nbformat": 4,
  "nbformat_minor": 0,
  "metadata": {
    "colab": {
      "provenance": []
    },
    "kernelspec": {
      "name": "python3",
      "display_name": "Python 3"
    },
    "language_info": {
      "name": "python"
    }
  },
  "cells": [
    {
      "cell_type": "code",
      "execution_count": 30,
      "metadata": {
        "id": "xM-cyvs1Fwq0"
      },
      "outputs": [],
      "source": [
        "import math\n",
        "import numpy as np\n",
        "from sklearn import datasets # for Iris dataset\n",
        "import pandas as pd # load dataset-nya\n",
        "import matplotlib.pyplot as plt # for visualization"
      ]
    },
    {
      "cell_type": "code",
      "source": [
        "iris = datasets.load_iris(as_frame=True)\n",
        "iris_df = iris.frame\n",
        "\n",
        "print(iris_df)"
      ],
      "metadata": {
        "colab": {
          "base_uri": "https://localhost:8080/"
        },
        "id": "feQj3eZfReam",
        "outputId": "bbd2fd01-e701-40fd-ae00-6d32233f4087"
      },
      "execution_count": 31,
      "outputs": [
        {
          "output_type": "stream",
          "name": "stdout",
          "text": [
            "     sepal length (cm)  sepal width (cm)  petal length (cm)  petal width (cm)  \\\n",
            "0                  5.1               3.5                1.4               0.2   \n",
            "1                  4.9               3.0                1.4               0.2   \n",
            "2                  4.7               3.2                1.3               0.2   \n",
            "3                  4.6               3.1                1.5               0.2   \n",
            "4                  5.0               3.6                1.4               0.2   \n",
            "..                 ...               ...                ...               ...   \n",
            "145                6.7               3.0                5.2               2.3   \n",
            "146                6.3               2.5                5.0               1.9   \n",
            "147                6.5               3.0                5.2               2.0   \n",
            "148                6.2               3.4                5.4               2.3   \n",
            "149                5.9               3.0                5.1               1.8   \n",
            "\n",
            "     target  \n",
            "0         0  \n",
            "1         0  \n",
            "2         0  \n",
            "3         0  \n",
            "4         0  \n",
            "..      ...  \n",
            "145       2  \n",
            "146       2  \n",
            "147       2  \n",
            "148       2  \n",
            "149       2  \n",
            "\n",
            "[150 rows x 5 columns]\n"
          ]
        }
      ]
    },
    {
      "cell_type": "code",
      "source": [
        "# drop iris virgnica dari data (target = 2)\n",
        "# ubah semua petal width menjadi 0.2 seperti dataset pada SLP Google Sheets\n",
        "\n",
        "iris_df = iris_df[iris_df['target'] != 2]\n",
        "iris_df['petal width (cm)'] = 0.2\n",
        "print(iris_df)\n"
      ],
      "metadata": {
        "colab": {
          "base_uri": "https://localhost:8080/"
        },
        "id": "51YE6JdOMBT8",
        "outputId": "6d8db055-4ebd-471b-b5a5-348480773ad3"
      },
      "execution_count": 32,
      "outputs": [
        {
          "output_type": "stream",
          "name": "stdout",
          "text": [
            "    sepal length (cm)  sepal width (cm)  petal length (cm)  petal width (cm)  \\\n",
            "0                 5.1               3.5                1.4               0.2   \n",
            "1                 4.9               3.0                1.4               0.2   \n",
            "2                 4.7               3.2                1.3               0.2   \n",
            "3                 4.6               3.1                1.5               0.2   \n",
            "4                 5.0               3.6                1.4               0.2   \n",
            "..                ...               ...                ...               ...   \n",
            "95                5.7               3.0                4.2               0.2   \n",
            "96                5.7               2.9                4.2               0.2   \n",
            "97                6.2               2.9                4.3               0.2   \n",
            "98                5.1               2.5                3.0               0.2   \n",
            "99                5.7               2.8                4.1               0.2   \n",
            "\n",
            "    target  \n",
            "0        0  \n",
            "1        0  \n",
            "2        0  \n",
            "3        0  \n",
            "4        0  \n",
            "..     ...  \n",
            "95       1  \n",
            "96       1  \n",
            "97       1  \n",
            "98       1  \n",
            "99       1  \n",
            "\n",
            "[100 rows x 5 columns]\n"
          ]
        },
        {
          "output_type": "stream",
          "name": "stderr",
          "text": [
            "/tmp/ipython-input-618363182.py:5: SettingWithCopyWarning: \n",
            "A value is trying to be set on a copy of a slice from a DataFrame.\n",
            "Try using .loc[row_indexer,col_indexer] = value instead\n",
            "\n",
            "See the caveats in the documentation: https://pandas.pydata.org/pandas-docs/stable/user_guide/indexing.html#returning-a-view-versus-a-copy\n",
            "  iris_df['petal width (cm)'] = 0.2\n"
          ]
        }
      ]
    },
    {
      "cell_type": "code",
      "source": [
        "# split data training dan validation\n",
        "train_df = pd.concat([iris_df[0:40], iris_df[50:90]])\n",
        "val_df = pd.concat([iris_df[40:50], iris_df[90:100]])\n",
        "\n",
        "print(train_df)\n",
        "print(val_df)"
      ],
      "metadata": {
        "id": "RIVkM9dtQlKg",
        "colab": {
          "base_uri": "https://localhost:8080/"
        },
        "outputId": "59b604e5-8369-4d9e-8887-e01c6b031fb5"
      },
      "execution_count": 33,
      "outputs": [
        {
          "output_type": "stream",
          "name": "stdout",
          "text": [
            "    sepal length (cm)  sepal width (cm)  petal length (cm)  petal width (cm)  \\\n",
            "0                 5.1               3.5                1.4               0.2   \n",
            "1                 4.9               3.0                1.4               0.2   \n",
            "2                 4.7               3.2                1.3               0.2   \n",
            "3                 4.6               3.1                1.5               0.2   \n",
            "4                 5.0               3.6                1.4               0.2   \n",
            "..                ...               ...                ...               ...   \n",
            "85                6.0               3.4                4.5               0.2   \n",
            "86                6.7               3.1                4.7               0.2   \n",
            "87                6.3               2.3                4.4               0.2   \n",
            "88                5.6               3.0                4.1               0.2   \n",
            "89                5.5               2.5                4.0               0.2   \n",
            "\n",
            "    target  \n",
            "0        0  \n",
            "1        0  \n",
            "2        0  \n",
            "3        0  \n",
            "4        0  \n",
            "..     ...  \n",
            "85       1  \n",
            "86       1  \n",
            "87       1  \n",
            "88       1  \n",
            "89       1  \n",
            "\n",
            "[80 rows x 5 columns]\n",
            "    sepal length (cm)  sepal width (cm)  petal length (cm)  petal width (cm)  \\\n",
            "40                5.0               3.5                1.3               0.2   \n",
            "41                4.5               2.3                1.3               0.2   \n",
            "42                4.4               3.2                1.3               0.2   \n",
            "43                5.0               3.5                1.6               0.2   \n",
            "44                5.1               3.8                1.9               0.2   \n",
            "45                4.8               3.0                1.4               0.2   \n",
            "46                5.1               3.8                1.6               0.2   \n",
            "47                4.6               3.2                1.4               0.2   \n",
            "48                5.3               3.7                1.5               0.2   \n",
            "49                5.0               3.3                1.4               0.2   \n",
            "90                5.5               2.6                4.4               0.2   \n",
            "91                6.1               3.0                4.6               0.2   \n",
            "92                5.8               2.6                4.0               0.2   \n",
            "93                5.0               2.3                3.3               0.2   \n",
            "94                5.6               2.7                4.2               0.2   \n",
            "95                5.7               3.0                4.2               0.2   \n",
            "96                5.7               2.9                4.2               0.2   \n",
            "97                6.2               2.9                4.3               0.2   \n",
            "98                5.1               2.5                3.0               0.2   \n",
            "99                5.7               2.8                4.1               0.2   \n",
            "\n",
            "    target  \n",
            "40       0  \n",
            "41       0  \n",
            "42       0  \n",
            "43       0  \n",
            "44       0  \n",
            "45       0  \n",
            "46       0  \n",
            "47       0  \n",
            "48       0  \n",
            "49       0  \n",
            "90       1  \n",
            "91       1  \n",
            "92       1  \n",
            "93       1  \n",
            "94       1  \n",
            "95       1  \n",
            "96       1  \n",
            "97       1  \n",
            "98       1  \n",
            "99       1  \n"
          ]
        }
      ]
    },
    {
      "cell_type": "code",
      "source": [
        "# Memisahkan fitur dan target\n",
        "X_train = train_df.drop('target', axis=1).values\n",
        "y_train = train_df['target'].values\n",
        "X_val = val_df.drop('target', axis=1).values\n",
        "y_val = val_df['target'].values\n",
        "\n",
        "print(X_train)\n",
        "print(y_train)\n",
        "print(X_val)\n",
        "print(y_val)"
      ],
      "metadata": {
        "colab": {
          "base_uri": "https://localhost:8080/"
        },
        "id": "ogd1F7ogTe4F",
        "outputId": "76ae5807-a501-4e13-9520-6a35c3030d0f"
      },
      "execution_count": 34,
      "outputs": [
        {
          "output_type": "stream",
          "name": "stdout",
          "text": [
            "[[5.1 3.5 1.4 0.2]\n",
            " [4.9 3.  1.4 0.2]\n",
            " [4.7 3.2 1.3 0.2]\n",
            " [4.6 3.1 1.5 0.2]\n",
            " [5.  3.6 1.4 0.2]\n",
            " [5.4 3.9 1.7 0.2]\n",
            " [4.6 3.4 1.4 0.2]\n",
            " [5.  3.4 1.5 0.2]\n",
            " [4.4 2.9 1.4 0.2]\n",
            " [4.9 3.1 1.5 0.2]\n",
            " [5.4 3.7 1.5 0.2]\n",
            " [4.8 3.4 1.6 0.2]\n",
            " [4.8 3.  1.4 0.2]\n",
            " [4.3 3.  1.1 0.2]\n",
            " [5.8 4.  1.2 0.2]\n",
            " [5.7 4.4 1.5 0.2]\n",
            " [5.4 3.9 1.3 0.2]\n",
            " [5.1 3.5 1.4 0.2]\n",
            " [5.7 3.8 1.7 0.2]\n",
            " [5.1 3.8 1.5 0.2]\n",
            " [5.4 3.4 1.7 0.2]\n",
            " [5.1 3.7 1.5 0.2]\n",
            " [4.6 3.6 1.  0.2]\n",
            " [5.1 3.3 1.7 0.2]\n",
            " [4.8 3.4 1.9 0.2]\n",
            " [5.  3.  1.6 0.2]\n",
            " [5.  3.4 1.6 0.2]\n",
            " [5.2 3.5 1.5 0.2]\n",
            " [5.2 3.4 1.4 0.2]\n",
            " [4.7 3.2 1.6 0.2]\n",
            " [4.8 3.1 1.6 0.2]\n",
            " [5.4 3.4 1.5 0.2]\n",
            " [5.2 4.1 1.5 0.2]\n",
            " [5.5 4.2 1.4 0.2]\n",
            " [4.9 3.1 1.5 0.2]\n",
            " [5.  3.2 1.2 0.2]\n",
            " [5.5 3.5 1.3 0.2]\n",
            " [4.9 3.6 1.4 0.2]\n",
            " [4.4 3.  1.3 0.2]\n",
            " [5.1 3.4 1.5 0.2]\n",
            " [7.  3.2 4.7 0.2]\n",
            " [6.4 3.2 4.5 0.2]\n",
            " [6.9 3.1 4.9 0.2]\n",
            " [5.5 2.3 4.  0.2]\n",
            " [6.5 2.8 4.6 0.2]\n",
            " [5.7 2.8 4.5 0.2]\n",
            " [6.3 3.3 4.7 0.2]\n",
            " [4.9 2.4 3.3 0.2]\n",
            " [6.6 2.9 4.6 0.2]\n",
            " [5.2 2.7 3.9 0.2]\n",
            " [5.  2.  3.5 0.2]\n",
            " [5.9 3.  4.2 0.2]\n",
            " [6.  2.2 4.  0.2]\n",
            " [6.1 2.9 4.7 0.2]\n",
            " [5.6 2.9 3.6 0.2]\n",
            " [6.7 3.1 4.4 0.2]\n",
            " [5.6 3.  4.5 0.2]\n",
            " [5.8 2.7 4.1 0.2]\n",
            " [6.2 2.2 4.5 0.2]\n",
            " [5.6 2.5 3.9 0.2]\n",
            " [5.9 3.2 4.8 0.2]\n",
            " [6.1 2.8 4.  0.2]\n",
            " [6.3 2.5 4.9 0.2]\n",
            " [6.1 2.8 4.7 0.2]\n",
            " [6.4 2.9 4.3 0.2]\n",
            " [6.6 3.  4.4 0.2]\n",
            " [6.8 2.8 4.8 0.2]\n",
            " [6.7 3.  5.  0.2]\n",
            " [6.  2.9 4.5 0.2]\n",
            " [5.7 2.6 3.5 0.2]\n",
            " [5.5 2.4 3.8 0.2]\n",
            " [5.5 2.4 3.7 0.2]\n",
            " [5.8 2.7 3.9 0.2]\n",
            " [6.  2.7 5.1 0.2]\n",
            " [5.4 3.  4.5 0.2]\n",
            " [6.  3.4 4.5 0.2]\n",
            " [6.7 3.1 4.7 0.2]\n",
            " [6.3 2.3 4.4 0.2]\n",
            " [5.6 3.  4.1 0.2]\n",
            " [5.5 2.5 4.  0.2]]\n",
            "[0 0 0 0 0 0 0 0 0 0 0 0 0 0 0 0 0 0 0 0 0 0 0 0 0 0 0 0 0 0 0 0 0 0 0 0 0\n",
            " 0 0 0 1 1 1 1 1 1 1 1 1 1 1 1 1 1 1 1 1 1 1 1 1 1 1 1 1 1 1 1 1 1 1 1 1 1\n",
            " 1 1 1 1 1 1]\n",
            "[[5.  3.5 1.3 0.2]\n",
            " [4.5 2.3 1.3 0.2]\n",
            " [4.4 3.2 1.3 0.2]\n",
            " [5.  3.5 1.6 0.2]\n",
            " [5.1 3.8 1.9 0.2]\n",
            " [4.8 3.  1.4 0.2]\n",
            " [5.1 3.8 1.6 0.2]\n",
            " [4.6 3.2 1.4 0.2]\n",
            " [5.3 3.7 1.5 0.2]\n",
            " [5.  3.3 1.4 0.2]\n",
            " [5.5 2.6 4.4 0.2]\n",
            " [6.1 3.  4.6 0.2]\n",
            " [5.8 2.6 4.  0.2]\n",
            " [5.  2.3 3.3 0.2]\n",
            " [5.6 2.7 4.2 0.2]\n",
            " [5.7 3.  4.2 0.2]\n",
            " [5.7 2.9 4.2 0.2]\n",
            " [6.2 2.9 4.3 0.2]\n",
            " [5.1 2.5 3.  0.2]\n",
            " [5.7 2.8 4.1 0.2]]\n",
            "[0 0 0 0 0 0 0 0 0 0 1 1 1 1 1 1 1 1 1 1]\n"
          ]
        }
      ]
    },
    {
      "cell_type": "code",
      "source": [
        "# 1. Inisialisasi bobot dan bias\n",
        "def initialize_weights(n_features):\n",
        "    weights = np.full(n_features, 0.5)   # semua bobot = 0.5\n",
        "    bias = 0.5\n",
        "    return weights, bias\n",
        "\n",
        "# 2. Dot product\n",
        "def dot_product(X, weights, bias):\n",
        "    return np.dot(X, weights) + bias\n",
        "\n",
        "# 3. Fungsi aktivasi (sigmoid)\n",
        "def sigmoid(z):\n",
        "    return 1 / (1 + np.exp(-z))\n",
        "\n",
        "# 4. Prediksi\n",
        "def predict(inputs, weights, bias):\n",
        "    pred_value = sigmoid(dot_product(inputs, weights, bias))\n",
        "    class_pred = 1 if pred_value >= 0.5 else 0\n",
        "    return class_pred, pred_value\n",
        "\n",
        "# 5. Evaluasi (loss & akurasi)\n",
        "def evaluate(X, y, weights, bias):\n",
        "    total_loss, correct = 0, 0\n",
        "    for inputs, target in zip(X, y):\n",
        "        class_pred, pred_value = predict(inputs, weights, bias)\n",
        "        error = pred_value - target\n",
        "        total_loss += error**2\n",
        "        correct += (class_pred == target)\n",
        "    loss = total_loss / len(X)\n",
        "    acc = correct / len(X)\n",
        "    return loss, acc\n",
        "\n",
        "# 6. Training loop\n",
        "def train(X_train, y_train, X_val, y_val, lr=0.1, epochs=200):\n",
        "    weights, bias = initialize_weights(X_train.shape[1])\n",
        "    history = []\n",
        "\n",
        "    for epoch in range(1, epochs + 1):\n",
        "        total_train_loss, correct_train = 0, 0\n",
        "\n",
        "        for inputs, target in zip(X_train, y_train):\n",
        "            class_pred, pred_value = predict(inputs, weights, bias)\n",
        "            error = pred_value - target\n",
        "\n",
        "            # update bobot dan bias\n",
        "            grad = 2 * error * pred_value * (1 - pred_value)\n",
        "            weights -= lr * grad * inputs\n",
        "            bias -= lr * grad\n",
        "\n",
        "            total_train_loss += error**2\n",
        "            correct_train += (class_pred == target)\n",
        "\n",
        "        train_loss = total_train_loss / len(X_train)\n",
        "        train_acc = correct_train / len(X_train)\n",
        "\n",
        "        # validasi\n",
        "        val_loss, val_acc = evaluate(X_val, y_val, weights, bias)\n",
        "\n",
        "        history.append({\n",
        "            'epoch': epoch,\n",
        "            'train_loss': train_loss,\n",
        "            'train_acc': train_acc,\n",
        "            'val_loss': val_loss,\n",
        "            'val_acc': val_acc\n",
        "        })\n",
        "\n",
        "    return weights, bias, pd.DataFrame(history)\n"
      ],
      "metadata": {
        "id": "qnbZBK98XcvQ"
      },
      "execution_count": 35,
      "outputs": []
    },
    {
      "cell_type": "code",
      "source": [
        "weights, bias, history = train(X_train, y_train, X_val, y_val, lr=0.1, epochs=5)\n",
        "\n",
        "print(history.head())"
      ],
      "metadata": {
        "colab": {
          "base_uri": "https://localhost:8080/"
        },
        "id": "2wrzukW1WK1a",
        "outputId": "a26a816d-ef24-4787-aa33-2f15fa17c4d7"
      },
      "execution_count": 36,
      "outputs": [
        {
          "output_type": "stream",
          "name": "stdout",
          "text": [
            "   epoch  train_loss  train_acc  val_loss  val_acc\n",
            "0      1    0.449211     0.5250  0.370544      0.5\n",
            "1      2    0.050786     0.9375  0.298363      0.5\n",
            "2      3    0.032975     0.9500  0.227337      0.5\n",
            "3      4    0.022917     0.9750  0.165211      0.5\n",
            "4      5    0.017006     0.9750  0.115915      0.9\n"
          ]
        }
      ]
    },
    {
      "cell_type": "code",
      "source": [
        "def plot_history(history):\n",
        "    fig, ax = plt.subplots(1, 2, figsize=(12, 5))\n",
        "\n",
        "    # Grafik Loss\n",
        "    ax[0].plot(history['epoch'], history['train_loss'], label='Train Loss')\n",
        "    ax[0].plot(history['epoch'], history['val_loss'], label='Validation Loss')\n",
        "    ax[0].set_xlabel(\"Epoch\")\n",
        "    ax[0].set_ylabel(\"Loss (MSE)\")\n",
        "    ax[0].set_title(\"Training vs Validation Loss\")\n",
        "    ax[0].legend()\n",
        "    ax[0].set_xticks(history['epoch'])\n",
        "\n",
        "    # Grafik Akurasi\n",
        "    ax[1].plot(history['epoch'], history['train_acc'], label='Train Accuracy')\n",
        "    ax[1].plot(history['epoch'], history['val_acc'], label='Validation Accuracy')\n",
        "    ax[1].set_xlabel(\"Epoch\")\n",
        "    ax[1].set_ylabel(\"Accuracy\")\n",
        "    ax[1].set_title(\"Training vs Validation Accuracy\")\n",
        "    ax[1].legend()\n",
        "    ax[1].set_xticks(history['epoch'])\n",
        "\n",
        "    plt.show()\n"
      ],
      "metadata": {
        "id": "AidGsaFsY8Un"
      },
      "execution_count": 37,
      "outputs": []
    },
    {
      "cell_type": "code",
      "source": [
        "weights, bias, history = train(X_train, y_train, X_val, y_val, lr=0.1, epochs=5)\n",
        "\n",
        "plot_history(history)\n"
      ],
      "metadata": {
        "colab": {
          "base_uri": "https://localhost:8080/",
          "height": 487
        },
        "id": "xtXv8VB9afZ2",
        "outputId": "0bd6393f-33aa-45a2-bf12-0a573afc4b39"
      },
      "execution_count": 38,
      "outputs": [
        {
          "output_type": "display_data",
          "data": {
            "text/plain": [
              "<Figure size 1200x500 with 2 Axes>"
            ],
            "image/png": "[encoded data removed]"
          },
          "metadata": {}
        }
      ]
    }
  ]
}